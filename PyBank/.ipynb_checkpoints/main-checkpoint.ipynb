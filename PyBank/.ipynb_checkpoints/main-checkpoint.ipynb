{
 "cells": [
  {
   "cell_type": "code",
   "execution_count": 48,
   "metadata": {},
   "outputs": [
    {
     "name": "stdout",
     "output_type": "stream",
     "text": [
      "Financial Analysis \n",
      "----------------------------\n",
      "Total Months: 86\n",
      "Total: $38382578\n",
      "Average Change: $-2315.12\n",
      "Greatest Increase in Profits: Feb-2012 ($1926159)\n",
      "Greatest Decrease in Profits: Sep-2013 ($-2196167)\n"
     ]
    }
   ],
   "source": [
    "# import\n",
    "import pandas as pd\n",
    "\n",
    "# make dataframe\n",
    "df = pd.read_csv('U2Data.csv')\n",
    "\n",
    "# other variables\n",
    "months = df['Date'].tolist()\n",
    "results = df['Profit/Losses'].tolist()\n",
    "avg_changes = []\n",
    "\n",
    "# needed value 1\n",
    "total_months = str(df['Date'].nunique())\n",
    "\n",
    "# needed value 2\n",
    "total = str(df['Profit/Losses'].sum())\n",
    "\n",
    "# needed value 3, 4 & 5\n",
    "\n",
    "index = 1\n",
    "while index < len(results):\n",
    "    avg_changes.append(results[index] - results[index - 1])\n",
    "    index += 1\n",
    "    \n",
    "avg_change = \"{:.2f}\".format(sum(avg_changes)/len(avg_changes))\n",
    "\n",
    "max_change = max(avg_changes)\n",
    "min_change = min(avg_changes)\n",
    "\n",
    "inc_index = avg_changes.index(max_change)\n",
    "dec_index = avg_changes.index(min_change)\n",
    "\n",
    "greatest_inc = (df.iloc[inc_index + 1]['Date'], str(max_change))\n",
    "greatest_dec = (df.iloc[dec_index + 1]['Date'], str(min_change))\n",
    "\n",
    "# results print and file export\n",
    "results_file = open(\"results.txt\", \"w\")\n",
    "results_str = 'Financial Analysis \\n----------------------------\\n'\n",
    "results_str += 'Total Months: ' + total_months + '\\n'\n",
    "results_str += 'Total: $' + total + '\\n'\n",
    "results_str += 'Average Change: $' + avg_change + '\\n'\n",
    "results_str += 'Greatest Increase in Profits: {} (${})'.format(greatest_inc[0], greatest_inc[1]) + '\\n'\n",
    "results_str += 'Greatest Decrease in Profits: {} (${})'.format(greatest_dec[0], greatest_dec[1])\n",
    "\n",
    "print(results_str)\n",
    "results_file.write(results_str)\n",
    "results_file.close()"
   ]
  },
  {
   "cell_type": "code",
   "execution_count": null,
   "metadata": {},
   "outputs": [],
   "source": []
  },
  {
   "cell_type": "code",
   "execution_count": null,
   "metadata": {},
   "outputs": [],
   "source": []
  }
 ],
 "metadata": {
  "kernelspec": {
   "display_name": "Python 3",
   "language": "python",
   "name": "python3"
  },
  "language_info": {
   "codemirror_mode": {
    "name": "ipython",
    "version": 3
   },
   "file_extension": ".py",
   "mimetype": "text/x-python",
   "name": "python",
   "nbconvert_exporter": "python",
   "pygments_lexer": "ipython3",
   "version": "3.7.9"
  }
 },
 "nbformat": 4,
 "nbformat_minor": 4
}
